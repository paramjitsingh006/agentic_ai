{
 "cells": [
  {
   "cell_type": "code",
   "execution_count": 2,
   "id": "528aeac2a0a2ed75",
   "metadata": {
    "jupyter": {
     "is_executing": true
    }
   },
   "outputs": [
    {
     "data": {
      "text/plain": [
       "True"
      ]
     },
     "execution_count": 2,
     "metadata": {},
     "output_type": "execute_result"
    }
   ],
   "source": [
    "from dotenv import load_dotenv\n",
    "from langchain_groq import ChatGroq\n",
    "from langchain_core.prompts import ChatPromptTemplate, PromptTemplate\n",
    "from langchain_core.output_parsers import XMLOutputParser, JsonOutputParser, PydanticOutputParser\n",
    "\n",
    "load_dotenv()"
   ]
  },
  {
   "cell_type": "code",
   "execution_count": 3,
   "id": "e95d2e88a4471c51",
   "metadata": {
    "jupyter": {
     "is_executing": true
    }
   },
   "outputs": [],
   "source": [
    "model = ChatGroq(model=\"gemma2-9b-it\")"
   ]
  },
  {
   "cell_type": "code",
   "execution_count": 4,
   "id": "f087c3824d76ad63",
   "metadata": {
    "jupyter": {
     "is_executing": true
    }
   },
   "outputs": [],
   "source": [
    "from pydantic import Field, BaseModel\n",
    "from typing import Optional\n",
    "\n",
    "class Product(BaseModel):\n",
    "    name: str = Field(description=\"The name of the product\")\n",
    "    tentative_price: Optional[float] = Field(default=None, description=\"The price of the product in USD\")\n",
    "    description: str = Field(description=\"A brief description of the product\")\n"
   ]
  },
  {
   "cell_type": "code",
   "execution_count": 5,
   "id": "b9581cd3f23e1147",
   "metadata": {
    "jupyter": {
     "is_executing": true
    }
   },
   "outputs": [
    {
     "data": {
      "text/plain": [
       "Product(name='iPhone 15 Pro Max', tentative_price=1099.0, description='The latest iPhone, featuring a stunning 6.7-inch Super Retina XDR display, a powerful A17 Pro chip, a revolutionary titanium design, and an advanced camera system with a new 48MP main camera.')"
      ]
     },
     "execution_count": 5,
     "metadata": {},
     "output_type": "execute_result"
    }
   ],
   "source": [
    "from langchain_core.prompts import  ChatPromptTemplate, PromptTemplate, SystemMessagePromptTemplate\n",
    "from langchain_core.output_parsers import PydanticOutputParser\n",
    "from langchain_core.messages import HumanMessage\n",
    "\n",
    "product_parser = PydanticOutputParser(pydantic_object=Product)\n",
    "\n",
    "_prompt_template = PromptTemplate(\n",
    "    template=\"You are a helpful eCommerce Product assistant. Answer the user question: {input}. Return the product information in the format: {format_instructions}\",\n",
    "    input_variables=[\"input\"],\n",
    "    partial_variables={\"format_instructions\": product_parser.get_format_instructions()}\n",
    ")\n",
    "\n",
    "prompt = ChatPromptTemplate.from_messages(\n",
    "    [\n",
    "        SystemMessagePromptTemplate(prompt=_prompt_template),\n",
    "        HumanMessage(\"input\"),\n",
    "    ]\n",
    ")\n",
    "\n",
    "chain = prompt | model | product_parser\n",
    "\n",
    "response = chain.invoke({\"input\": \"Tell me about the latest iPhone.\"})\n",
    "response"
   ]
  },
  {
   "cell_type": "code",
   "execution_count": null,
   "id": "93dddd03a5cba84d",
   "metadata": {},
   "outputs": [],
   "source": []
  }
 ],
 "metadata": {
  "kernelspec": {
   "display_name": ".venv",
   "language": "python",
   "name": "python3"
  },
  "language_info": {
   "codemirror_mode": {
    "name": "ipython",
    "version": 3
   },
   "file_extension": ".py",
   "mimetype": "text/x-python",
   "name": "python",
   "nbconvert_exporter": "python",
   "pygments_lexer": "ipython3",
   "version": "3.9.6"
  }
 },
 "nbformat": 4,
 "nbformat_minor": 5
}
